{
 "cells": [
  {
   "cell_type": "code",
   "execution_count": null,
   "metadata": {
    "colab": {
     "base_uri": "https://localhost:8080/"
    },
    "id": "up8JlLEwBRrI",
    "outputId": "f0a3789c-7432-49c1-8284-c5d6e00e6494"
   },
   "outputs": [],
   "source": []
  },
  {
   "cell_type": "code",
   "execution_count": 1,
   "metadata": {
    "id": "6BTJ0BMvBRrE"
   },
   "outputs": [],
   "source": [
    "import numpy as np\n",
    "import pandas as pd\n",
    "import seaborn as sns\n",
    "import matplotlib.pyplot as plt\n",
    "from wordcloud import WordCloud, STOPWORDS, ImageColorGenerator\n",
    "import nltk\n",
    "import re\n",
    "from nltk.corpus import stopwords\n",
    "import string"
   ]
  },
  {
   "cell_type": "code",
   "execution_count": 2,
   "metadata": {
    "colab": {
     "base_uri": "https://localhost:8080/"
    },
    "id": "GKfeOwknvRtl",
    "outputId": "406bf240-9f7d-4b50-d495-af7043775f83"
   },
   "outputs": [
    {
     "name": "stderr",
     "output_type": "stream",
     "text": [
      "[nltk_data] Downloading package stopwords to\n",
      "[nltk_data]     C:\\Users\\Consultant\\AppData\\Roaming\\nltk_data...\n",
      "[nltk_data]   Package stopwords is already up-to-date!\n"
     ]
    }
   ],
   "source": [
    "nltk.download('stopwords')\n",
    "stemmer = nltk.SnowballStemmer(\"english\")\n",
    "stopword=set(stopwords.words('english'))"
   ]
  },
  {
   "cell_type": "code",
   "execution_count": 3,
   "metadata": {
    "colab": {
     "base_uri": "https://localhost:8080/",
     "height": 468
    },
    "id": "j2BQ2vt7B3RD",
    "outputId": "d6fea008-df2f-44de-ab10-284ff6df8126"
   },
   "outputs": [
    {
     "data": {
      "text/html": [
       "<div>\n",
       "<style scoped>\n",
       "    .dataframe tbody tr th:only-of-type {\n",
       "        vertical-align: middle;\n",
       "    }\n",
       "\n",
       "    .dataframe tbody tr th {\n",
       "        vertical-align: top;\n",
       "    }\n",
       "\n",
       "    .dataframe thead th {\n",
       "        text-align: right;\n",
       "    }\n",
       "</style>\n",
       "<table border=\"1\" class=\"dataframe\">\n",
       "  <thead>\n",
       "    <tr style=\"text-align: right;\">\n",
       "      <th></th>\n",
       "      <th>title</th>\n",
       "      <th>content</th>\n",
       "      <th>date</th>\n",
       "      <th>variant</th>\n",
       "      <th>images</th>\n",
       "      <th>verified</th>\n",
       "      <th>author</th>\n",
       "      <th>rating</th>\n",
       "      <th>product</th>\n",
       "      <th>url</th>\n",
       "    </tr>\n",
       "  </thead>\n",
       "  <tbody>\n",
       "    <tr>\n",
       "      <th>0</th>\n",
       "      <td>Do not pay an activation fee!</td>\n",
       "      <td>We now have three of these devices in our home...</td>\n",
       "      <td>01 Nov 2019</td>\n",
       "      <td>Style: Roku Express HD</td>\n",
       "      <td>NaN</td>\n",
       "      <td>Verified Purchase</td>\n",
       "      <td>Rose Dawson</td>\n",
       "      <td>5.0</td>\n",
       "      <td>Roku Express | HD Streaming Media Player with ...</td>\n",
       "      <td>https://www.amazon.com/product-reviews/B07WVFC...</td>\n",
       "    </tr>\n",
       "    <tr>\n",
       "      <th>1</th>\n",
       "      <td>Should have got one years ago</td>\n",
       "      <td>I finally decided to buy one to help keep my T...</td>\n",
       "      <td>16 Oct 2019</td>\n",
       "      <td>Style: Roku Express HD</td>\n",
       "      <td>NaN</td>\n",
       "      <td>Verified Purchase</td>\n",
       "      <td>Mike T</td>\n",
       "      <td>5.0</td>\n",
       "      <td>Roku Express | HD Streaming Media Player with ...</td>\n",
       "      <td>https://www.amazon.com/product-reviews/B07WVFC...</td>\n",
       "    </tr>\n",
       "    <tr>\n",
       "      <th>2</th>\n",
       "      <td>My Neck, My Back, My NETFLIX and my SNACKS!!!</td>\n",
       "      <td>I have been working on overtime, a 2nd job and...</td>\n",
       "      <td>28 Oct 2019</td>\n",
       "      <td>Style: Roku Express HD</td>\n",
       "      <td>NaN</td>\n",
       "      <td>Verified Purchase</td>\n",
       "      <td>Rachel in Florida</td>\n",
       "      <td>5.0</td>\n",
       "      <td>Roku Express | HD Streaming Media Player with ...</td>\n",
       "      <td>https://www.amazon.com/product-reviews/B07WVFC...</td>\n",
       "    </tr>\n",
       "    <tr>\n",
       "      <th>3</th>\n",
       "      <td>Bare-Boned Unit Works Great!</td>\n",
       "      <td>I bought this Roku to expand into a fourth roo...</td>\n",
       "      <td>19 Oct 2019</td>\n",
       "      <td>Style: Roku Express HD</td>\n",
       "      <td>NaN</td>\n",
       "      <td>Verified Purchase</td>\n",
       "      <td>Dee Arr</td>\n",
       "      <td>5.0</td>\n",
       "      <td>Roku Express | HD Streaming Media Player with ...</td>\n",
       "      <td>https://www.amazon.com/product-reviews/B07WVFC...</td>\n",
       "    </tr>\n",
       "    <tr>\n",
       "      <th>4</th>\n",
       "      <td>FANTASTIC device for the price!</td>\n",
       "      <td>This is my 5th Roku and it works just as good ...</td>\n",
       "      <td>15 Oct 2019</td>\n",
       "      <td>Style: Roku Express HD</td>\n",
       "      <td>NaN</td>\n",
       "      <td>Verified Purchase</td>\n",
       "      <td>KJinthe417</td>\n",
       "      <td>5.0</td>\n",
       "      <td>Roku Express | HD Streaming Media Player with ...</td>\n",
       "      <td>https://www.amazon.com/product-reviews/B07WVFC...</td>\n",
       "    </tr>\n",
       "    <tr>\n",
       "      <th>...</th>\n",
       "      <td>...</td>\n",
       "      <td>...</td>\n",
       "      <td>...</td>\n",
       "      <td>...</td>\n",
       "      <td>...</td>\n",
       "      <td>...</td>\n",
       "      <td>...</td>\n",
       "      <td>...</td>\n",
       "      <td>...</td>\n",
       "      <td>...</td>\n",
       "    </tr>\n",
       "    <tr>\n",
       "      <th>5535</th>\n",
       "      <td>HDMI switch/splitter users BEWARE!</td>\n",
       "      <td>Overall, was I eventually moderately satisfied...</td>\n",
       "      <td>16 Oct 2019</td>\n",
       "      <td>Style: Roku Express HD</td>\n",
       "      <td>NaN</td>\n",
       "      <td>Verified Purchase</td>\n",
       "      <td>DavyMac</td>\n",
       "      <td>4.0</td>\n",
       "      <td>Roku Express | HD Streaming Media Player with ...</td>\n",
       "      <td>https://www.amazon.com/product-reviews/B07WVFC...</td>\n",
       "    </tr>\n",
       "    <tr>\n",
       "      <th>5536</th>\n",
       "      <td>Beware of Activation Fee</td>\n",
       "      <td>I had to return it today though I only had it ...</td>\n",
       "      <td>27 Oct 2019</td>\n",
       "      <td>Style: Roku Express HD</td>\n",
       "      <td>NaN</td>\n",
       "      <td>Verified Purchase</td>\n",
       "      <td>mike</td>\n",
       "      <td>1.0</td>\n",
       "      <td>Roku Express | HD Streaming Media Player with ...</td>\n",
       "      <td>https://www.amazon.com/product-reviews/B07WVFC...</td>\n",
       "    </tr>\n",
       "    <tr>\n",
       "      <th>5537</th>\n",
       "      <td>Be very careful!</td>\n",
       "      <td>I just bought this product and when I attempte...</td>\n",
       "      <td>09 Jan 2020</td>\n",
       "      <td>Style: Roku Express HD</td>\n",
       "      <td>NaN</td>\n",
       "      <td>Verified Purchase</td>\n",
       "      <td>robert mullins</td>\n",
       "      <td>1.0</td>\n",
       "      <td>Roku Express | HD Streaming Media Player with ...</td>\n",
       "      <td>https://www.amazon.com/product-reviews/B07WVFC...</td>\n",
       "    </tr>\n",
       "    <tr>\n",
       "      <th>5538</th>\n",
       "      <td>Notice (Single Band Wireless)</td>\n",
       "      <td>Why have they gone backwards from a few years ...</td>\n",
       "      <td>11 Oct 2019</td>\n",
       "      <td>Style: Roku Express HD</td>\n",
       "      <td>NaN</td>\n",
       "      <td>NaN</td>\n",
       "      <td>Rokair</td>\n",
       "      <td>2.0</td>\n",
       "      <td>Roku Express | HD Streaming Media Player with ...</td>\n",
       "      <td>https://www.amazon.com/product-reviews/B07WVFC...</td>\n",
       "    </tr>\n",
       "    <tr>\n",
       "      <th>5539</th>\n",
       "      <td>Works great but BEWARE SCAMMERS WHEN REGISTERING</td>\n",
       "      <td>This lil device is great for the price. Set-up...</td>\n",
       "      <td>12 Nov 2019</td>\n",
       "      <td>Style: Roku Express HD</td>\n",
       "      <td>NaN</td>\n",
       "      <td>Verified Purchase</td>\n",
       "      <td>Betsy Karasik</td>\n",
       "      <td>5.0</td>\n",
       "      <td>Roku Express | HD Streaming Media Player with ...</td>\n",
       "      <td>https://www.amazon.com/product-reviews/B07WVFC...</td>\n",
       "    </tr>\n",
       "  </tbody>\n",
       "</table>\n",
       "<p>5540 rows × 10 columns</p>\n",
       "</div>"
      ],
      "text/plain": [
       "                                                 title  \\\n",
       "0                        Do not pay an activation fee!   \n",
       "1                        Should have got one years ago   \n",
       "2        My Neck, My Back, My NETFLIX and my SNACKS!!!   \n",
       "3                         Bare-Boned Unit Works Great!   \n",
       "4                      FANTASTIC device for the price!   \n",
       "...                                                ...   \n",
       "5535                HDMI switch/splitter users BEWARE!   \n",
       "5536                          Beware of Activation Fee   \n",
       "5537                                  Be very careful!   \n",
       "5538                     Notice (Single Band Wireless)   \n",
       "5539  Works great but BEWARE SCAMMERS WHEN REGISTERING   \n",
       "\n",
       "                                                content         date  \\\n",
       "0     We now have three of these devices in our home...  01 Nov 2019   \n",
       "1     I finally decided to buy one to help keep my T...  16 Oct 2019   \n",
       "2     I have been working on overtime, a 2nd job and...  28 Oct 2019   \n",
       "3     I bought this Roku to expand into a fourth roo...  19 Oct 2019   \n",
       "4     This is my 5th Roku and it works just as good ...  15 Oct 2019   \n",
       "...                                                 ...          ...   \n",
       "5535  Overall, was I eventually moderately satisfied...  16 Oct 2019   \n",
       "5536  I had to return it today though I only had it ...  27 Oct 2019   \n",
       "5537  I just bought this product and when I attempte...  09 Jan 2020   \n",
       "5538  Why have they gone backwards from a few years ...  11 Oct 2019   \n",
       "5539  This lil device is great for the price. Set-up...  12 Nov 2019   \n",
       "\n",
       "                     variant  images           verified             author  \\\n",
       "0     Style: Roku Express HD     NaN  Verified Purchase        Rose Dawson   \n",
       "1     Style: Roku Express HD     NaN  Verified Purchase             Mike T   \n",
       "2     Style: Roku Express HD     NaN  Verified Purchase  Rachel in Florida   \n",
       "3     Style: Roku Express HD     NaN  Verified Purchase            Dee Arr   \n",
       "4     Style: Roku Express HD     NaN  Verified Purchase         KJinthe417   \n",
       "...                      ...     ...                ...                ...   \n",
       "5535  Style: Roku Express HD     NaN  Verified Purchase            DavyMac   \n",
       "5536  Style: Roku Express HD     NaN  Verified Purchase               mike   \n",
       "5537  Style: Roku Express HD     NaN  Verified Purchase     robert mullins   \n",
       "5538  Style: Roku Express HD     NaN                NaN             Rokair   \n",
       "5539  Style: Roku Express HD     NaN  Verified Purchase      Betsy Karasik   \n",
       "\n",
       "      rating                                            product  \\\n",
       "0        5.0  Roku Express | HD Streaming Media Player with ...   \n",
       "1        5.0  Roku Express | HD Streaming Media Player with ...   \n",
       "2        5.0  Roku Express | HD Streaming Media Player with ...   \n",
       "3        5.0  Roku Express | HD Streaming Media Player with ...   \n",
       "4        5.0  Roku Express | HD Streaming Media Player with ...   \n",
       "...      ...                                                ...   \n",
       "5535     4.0  Roku Express | HD Streaming Media Player with ...   \n",
       "5536     1.0  Roku Express | HD Streaming Media Player with ...   \n",
       "5537     1.0  Roku Express | HD Streaming Media Player with ...   \n",
       "5538     2.0  Roku Express | HD Streaming Media Player with ...   \n",
       "5539     5.0  Roku Express | HD Streaming Media Player with ...   \n",
       "\n",
       "                                                    url  \n",
       "0     https://www.amazon.com/product-reviews/B07WVFC...  \n",
       "1     https://www.amazon.com/product-reviews/B07WVFC...  \n",
       "2     https://www.amazon.com/product-reviews/B07WVFC...  \n",
       "3     https://www.amazon.com/product-reviews/B07WVFC...  \n",
       "4     https://www.amazon.com/product-reviews/B07WVFC...  \n",
       "...                                                 ...  \n",
       "5535  https://www.amazon.com/product-reviews/B07WVFC...  \n",
       "5536  https://www.amazon.com/product-reviews/B07WVFC...  \n",
       "5537  https://www.amazon.com/product-reviews/B07WVFC...  \n",
       "5538  https://www.amazon.com/product-reviews/B07WVFC...  \n",
       "5539  https://www.amazon.com/product-reviews/B07WVFC...  \n",
       "\n",
       "[5540 rows x 10 columns]"
      ]
     },
     "execution_count": 3,
     "metadata": {},
     "output_type": "execute_result"
    }
   ],
   "source": [
    "url = 'data.csv'\n",
    "df1 = pd.read_csv(url,encoding = 'unicode_escape')\n",
    "df1"
   ]
  },
  {
   "cell_type": "code",
   "execution_count": 4,
   "metadata": {
    "colab": {
     "base_uri": "https://localhost:8080/",
     "height": 206
    },
    "id": "7IPGcyqnBRrI",
    "outputId": "0d2e6014-8d60-4254-dfc7-f6a085bc2637"
   },
   "outputs": [
    {
     "data": {
      "text/html": [
       "<div>\n",
       "<style scoped>\n",
       "    .dataframe tbody tr th:only-of-type {\n",
       "        vertical-align: middle;\n",
       "    }\n",
       "\n",
       "    .dataframe tbody tr th {\n",
       "        vertical-align: top;\n",
       "    }\n",
       "\n",
       "    .dataframe thead th {\n",
       "        text-align: right;\n",
       "    }\n",
       "</style>\n",
       "<table border=\"1\" class=\"dataframe\">\n",
       "  <thead>\n",
       "    <tr style=\"text-align: right;\">\n",
       "      <th></th>\n",
       "      <th>rating</th>\n",
       "      <th>No of Users</th>\n",
       "    </tr>\n",
       "  </thead>\n",
       "  <tbody>\n",
       "    <tr>\n",
       "      <th>0</th>\n",
       "      <td>5.0</td>\n",
       "      <td>3324</td>\n",
       "    </tr>\n",
       "    <tr>\n",
       "      <th>1</th>\n",
       "      <td>1.0</td>\n",
       "      <td>1108</td>\n",
       "    </tr>\n",
       "    <tr>\n",
       "      <th>2</th>\n",
       "      <td>2.0</td>\n",
       "      <td>554</td>\n",
       "    </tr>\n",
       "    <tr>\n",
       "      <th>3</th>\n",
       "      <td>4.0</td>\n",
       "      <td>554</td>\n",
       "    </tr>\n",
       "  </tbody>\n",
       "</table>\n",
       "</div>"
      ],
      "text/plain": [
       "   rating  No of Users\n",
       "0     5.0         3324\n",
       "1     1.0         1108\n",
       "2     2.0          554\n",
       "3     4.0          554"
      ]
     },
     "execution_count": 4,
     "metadata": {},
     "output_type": "execute_result"
    }
   ],
   "source": [
    "review=pd.DataFrame(df1.groupby('rating').size().sort_values(ascending=False).rename('No of Users').reset_index())\n",
    "review.head()"
   ]
  },
  {
   "cell_type": "code",
   "execution_count": 5,
   "metadata": {
    "colab": {
     "base_uri": "https://localhost:8080/"
    },
    "id": "aRmNeSc4BRrJ",
    "outputId": "df9e25a3-faaa-449b-b8aa-524a0e56b799"
   },
   "outputs": [
    {
     "name": "stdout",
     "output_type": "stream",
     "text": [
      "<class 'pandas.core.frame.DataFrame'>\n",
      "RangeIndex: 5540 entries, 0 to 5539\n",
      "Data columns (total 10 columns):\n",
      " #   Column    Non-Null Count  Dtype  \n",
      "---  ------    --------------  -----  \n",
      " 0   title     5540 non-null   object \n",
      " 1   content   5540 non-null   object \n",
      " 2   date      5540 non-null   object \n",
      " 3   variant   5540 non-null   object \n",
      " 4   images    0 non-null      float64\n",
      " 5   verified  4986 non-null   object \n",
      " 6   author    5540 non-null   object \n",
      " 7   rating    5540 non-null   float64\n",
      " 8   product   5540 non-null   object \n",
      " 9   url       5540 non-null   object \n",
      "dtypes: float64(2), object(8)\n",
      "memory usage: 432.9+ KB\n"
     ]
    }
   ],
   "source": [
    "df1.info()"
   ]
  },
  {
   "cell_type": "code",
   "execution_count": 6,
   "metadata": {
    "colab": {
     "base_uri": "https://localhost:8080/",
     "height": 424
    },
    "id": "a7fFXyChHRu-",
    "outputId": "0355764e-3022-4bdf-d6d1-9d3a6f51a544"
   },
   "outputs": [
    {
     "data": {
      "text/html": [
       "<div>\n",
       "<style scoped>\n",
       "    .dataframe tbody tr th:only-of-type {\n",
       "        vertical-align: middle;\n",
       "    }\n",
       "\n",
       "    .dataframe tbody tr th {\n",
       "        vertical-align: top;\n",
       "    }\n",
       "\n",
       "    .dataframe thead th {\n",
       "        text-align: right;\n",
       "    }\n",
       "</style>\n",
       "<table border=\"1\" class=\"dataframe\">\n",
       "  <thead>\n",
       "    <tr style=\"text-align: right;\">\n",
       "      <th></th>\n",
       "      <th>content</th>\n",
       "      <th>rating</th>\n",
       "    </tr>\n",
       "  </thead>\n",
       "  <tbody>\n",
       "    <tr>\n",
       "      <th>0</th>\n",
       "      <td>We now have three of these devices in our home...</td>\n",
       "      <td>5.0</td>\n",
       "    </tr>\n",
       "    <tr>\n",
       "      <th>1</th>\n",
       "      <td>I finally decided to buy one to help keep my T...</td>\n",
       "      <td>5.0</td>\n",
       "    </tr>\n",
       "    <tr>\n",
       "      <th>2</th>\n",
       "      <td>I have been working on overtime, a 2nd job and...</td>\n",
       "      <td>5.0</td>\n",
       "    </tr>\n",
       "    <tr>\n",
       "      <th>3</th>\n",
       "      <td>I bought this Roku to expand into a fourth roo...</td>\n",
       "      <td>5.0</td>\n",
       "    </tr>\n",
       "    <tr>\n",
       "      <th>4</th>\n",
       "      <td>This is my 5th Roku and it works just as good ...</td>\n",
       "      <td>5.0</td>\n",
       "    </tr>\n",
       "    <tr>\n",
       "      <th>...</th>\n",
       "      <td>...</td>\n",
       "      <td>...</td>\n",
       "    </tr>\n",
       "    <tr>\n",
       "      <th>5535</th>\n",
       "      <td>Overall, was I eventually moderately satisfied...</td>\n",
       "      <td>4.0</td>\n",
       "    </tr>\n",
       "    <tr>\n",
       "      <th>5536</th>\n",
       "      <td>I had to return it today though I only had it ...</td>\n",
       "      <td>1.0</td>\n",
       "    </tr>\n",
       "    <tr>\n",
       "      <th>5537</th>\n",
       "      <td>I just bought this product and when I attempte...</td>\n",
       "      <td>1.0</td>\n",
       "    </tr>\n",
       "    <tr>\n",
       "      <th>5538</th>\n",
       "      <td>Why have they gone backwards from a few years ...</td>\n",
       "      <td>2.0</td>\n",
       "    </tr>\n",
       "    <tr>\n",
       "      <th>5539</th>\n",
       "      <td>This lil device is great for the price. Set-up...</td>\n",
       "      <td>5.0</td>\n",
       "    </tr>\n",
       "  </tbody>\n",
       "</table>\n",
       "<p>5540 rows × 2 columns</p>\n",
       "</div>"
      ],
      "text/plain": [
       "                                                content  rating\n",
       "0     We now have three of these devices in our home...     5.0\n",
       "1     I finally decided to buy one to help keep my T...     5.0\n",
       "2     I have been working on overtime, a 2nd job and...     5.0\n",
       "3     I bought this Roku to expand into a fourth roo...     5.0\n",
       "4     This is my 5th Roku and it works just as good ...     5.0\n",
       "...                                                 ...     ...\n",
       "5535  Overall, was I eventually moderately satisfied...     4.0\n",
       "5536  I had to return it today though I only had it ...     1.0\n",
       "5537  I just bought this product and when I attempte...     1.0\n",
       "5538  Why have they gone backwards from a few years ...     2.0\n",
       "5539  This lil device is great for the price. Set-up...     5.0\n",
       "\n",
       "[5540 rows x 2 columns]"
      ]
     },
     "execution_count": 6,
     "metadata": {},
     "output_type": "execute_result"
    }
   ],
   "source": [
    "df1.drop([\"variant\",\"date\",\"title\",'images','author','product','url','verified'], axis=1, inplace=True)\n",
    "df1"
   ]
  },
  {
   "cell_type": "code",
   "execution_count": 7,
   "metadata": {
    "colab": {
     "base_uri": "https://localhost:8080/"
    },
    "id": "wLOGbysuBRrJ",
    "outputId": "cf92b4da-a4d9-4169-b0e0-eb78a5c40779"
   },
   "outputs": [
    {
     "data": {
      "text/plain": [
       "content    0\n",
       "rating     0\n",
       "dtype: int64"
      ]
     },
     "execution_count": 7,
     "metadata": {},
     "output_type": "execute_result"
    }
   ],
   "source": [
    "df1.isnull().sum()"
   ]
  },
  {
   "cell_type": "code",
   "execution_count": 8,
   "metadata": {
    "colab": {
     "base_uri": "https://localhost:8080/"
    },
    "id": "1NOSi_4nOU_Y",
    "outputId": "cc891d74-e3ba-4215-aaa7-4df51ce1f9ed"
   },
   "outputs": [
    {
     "data": {
      "text/plain": [
       "content    0\n",
       "rating     0\n",
       "dtype: int64"
      ]
     },
     "execution_count": 8,
     "metadata": {},
     "output_type": "execute_result"
    }
   ],
   "source": [
    "data = df1.dropna()\n",
    "data.isnull().sum()"
   ]
  },
  {
   "cell_type": "code",
   "execution_count": 9,
   "metadata": {
    "colab": {
     "base_uri": "https://localhost:8080/",
     "height": 424
    },
    "id": "N2Oy5nzoN4pE",
    "outputId": "5826d89f-df12-4e8b-de94-58f3679fd76b"
   },
   "outputs": [
    {
     "data": {
      "text/html": [
       "<div>\n",
       "<style scoped>\n",
       "    .dataframe tbody tr th:only-of-type {\n",
       "        vertical-align: middle;\n",
       "    }\n",
       "\n",
       "    .dataframe tbody tr th {\n",
       "        vertical-align: top;\n",
       "    }\n",
       "\n",
       "    .dataframe thead th {\n",
       "        text-align: right;\n",
       "    }\n",
       "</style>\n",
       "<table border=\"1\" class=\"dataframe\">\n",
       "  <thead>\n",
       "    <tr style=\"text-align: right;\">\n",
       "      <th></th>\n",
       "      <th>reviews.text</th>\n",
       "      <th>reviews.rating</th>\n",
       "    </tr>\n",
       "  </thead>\n",
       "  <tbody>\n",
       "    <tr>\n",
       "      <th>0</th>\n",
       "      <td>We now have three of these devices in our home...</td>\n",
       "      <td>5.0</td>\n",
       "    </tr>\n",
       "    <tr>\n",
       "      <th>1</th>\n",
       "      <td>I finally decided to buy one to help keep my T...</td>\n",
       "      <td>5.0</td>\n",
       "    </tr>\n",
       "    <tr>\n",
       "      <th>2</th>\n",
       "      <td>I have been working on overtime, a 2nd job and...</td>\n",
       "      <td>5.0</td>\n",
       "    </tr>\n",
       "    <tr>\n",
       "      <th>3</th>\n",
       "      <td>I bought this Roku to expand into a fourth roo...</td>\n",
       "      <td>5.0</td>\n",
       "    </tr>\n",
       "    <tr>\n",
       "      <th>4</th>\n",
       "      <td>This is my 5th Roku and it works just as good ...</td>\n",
       "      <td>5.0</td>\n",
       "    </tr>\n",
       "    <tr>\n",
       "      <th>...</th>\n",
       "      <td>...</td>\n",
       "      <td>...</td>\n",
       "    </tr>\n",
       "    <tr>\n",
       "      <th>5535</th>\n",
       "      <td>Overall, was I eventually moderately satisfied...</td>\n",
       "      <td>4.0</td>\n",
       "    </tr>\n",
       "    <tr>\n",
       "      <th>5536</th>\n",
       "      <td>I had to return it today though I only had it ...</td>\n",
       "      <td>1.0</td>\n",
       "    </tr>\n",
       "    <tr>\n",
       "      <th>5537</th>\n",
       "      <td>I just bought this product and when I attempte...</td>\n",
       "      <td>1.0</td>\n",
       "    </tr>\n",
       "    <tr>\n",
       "      <th>5538</th>\n",
       "      <td>Why have they gone backwards from a few years ...</td>\n",
       "      <td>2.0</td>\n",
       "    </tr>\n",
       "    <tr>\n",
       "      <th>5539</th>\n",
       "      <td>This lil device is great for the price. Set-up...</td>\n",
       "      <td>5.0</td>\n",
       "    </tr>\n",
       "  </tbody>\n",
       "</table>\n",
       "<p>5540 rows × 2 columns</p>\n",
       "</div>"
      ],
      "text/plain": [
       "                                           reviews.text  reviews.rating\n",
       "0     We now have three of these devices in our home...             5.0\n",
       "1     I finally decided to buy one to help keep my T...             5.0\n",
       "2     I have been working on overtime, a 2nd job and...             5.0\n",
       "3     I bought this Roku to expand into a fourth roo...             5.0\n",
       "4     This is my 5th Roku and it works just as good ...             5.0\n",
       "...                                                 ...             ...\n",
       "5535  Overall, was I eventually moderately satisfied...             4.0\n",
       "5536  I had to return it today though I only had it ...             1.0\n",
       "5537  I just bought this product and when I attempte...             1.0\n",
       "5538  Why have they gone backwards from a few years ...             2.0\n",
       "5539  This lil device is great for the price. Set-up...             5.0\n",
       "\n",
       "[5540 rows x 2 columns]"
      ]
     },
     "execution_count": 9,
     "metadata": {},
     "output_type": "execute_result"
    }
   ],
   "source": [
    "review = data.rename(columns={\"content\":\"reviews.text\",\"rating\":\"reviews.rating\"})\n",
    "review"
   ]
  },
  {
   "cell_type": "code",
   "execution_count": 10,
   "metadata": {
    "colab": {
     "base_uri": "https://localhost:8080/"
    },
    "id": "p62bfhUpOOXk",
    "outputId": "488158aa-f0c9-4ac3-acea-8bcce2666fc7"
   },
   "outputs": [
    {
     "name": "stdout",
     "output_type": "stream",
     "text": [
      "<class 'pandas.core.frame.DataFrame'>\n",
      "RangeIndex: 5540 entries, 0 to 5539\n",
      "Data columns (total 2 columns):\n",
      " #   Column          Non-Null Count  Dtype  \n",
      "---  ------          --------------  -----  \n",
      " 0   reviews.text    5540 non-null   object \n",
      " 1   reviews.rating  5540 non-null   float64\n",
      "dtypes: float64(1), object(1)\n",
      "memory usage: 86.7+ KB\n"
     ]
    }
   ],
   "source": [
    "review.info()"
   ]
  },
  {
   "cell_type": "code",
   "execution_count": 11,
   "metadata": {
    "colab": {
     "base_uri": "https://localhost:8080/"
    },
    "id": "P_ujnO3DPBIm",
    "outputId": "dd0fd956-88da-438d-f98d-5a9667fed3d8"
   },
   "outputs": [
    {
     "data": {
      "text/plain": [
       "5.0    3324\n",
       "1.0    1108\n",
       "4.0     554\n",
       "2.0     554\n",
       "Name: reviews.rating, dtype: int64"
      ]
     },
     "execution_count": 11,
     "metadata": {},
     "output_type": "execute_result"
    }
   ],
   "source": [
    "review['reviews.rating'].value_counts()"
   ]
  },
  {
   "cell_type": "code",
   "execution_count": 12,
   "metadata": {
    "colab": {
     "base_uri": "https://localhost:8080/",
     "height": 334
    },
    "id": "mQO10hFPwSWb",
    "outputId": "919861b5-bbf3-4bc3-a7dc-2a21bfd77071"
   },
   "outputs": [
    {
     "name": "stderr",
     "output_type": "stream",
     "text": [
      "C:\\Users\\Consultant\\anaconda3\\lib\\site-packages\\seaborn\\_decorators.py:36: FutureWarning: Pass the following variable as a keyword arg: x. From version 0.12, the only valid positional argument will be `data`, and passing other arguments without an explicit keyword will result in an error or misinterpretation.\n",
      "  warnings.warn(\n"
     ]
    },
    {
     "data": {
      "image/png": "[encoded data removed]",
      "text/plain": [
       "<Figure size 432x288 with 1 Axes>"
      ]
     },
     "metadata": {
      "needs_background": "light"
     },
     "output_type": "display_data"
    }
   ],
   "source": [
    "sns.countplot(review['reviews.rating'],palette ='Set2')\n",
    "plt.ylabel=('count')\n",
    "plt.xlabel=('rating')\n",
    "plt.show()"
   ]
  },
  {
   "cell_type": "code",
   "execution_count": 13,
   "metadata": {
    "colab": {
     "base_uri": "https://localhost:8080/",
     "height": 577
    },
    "id": "8HBPy-UOwSS4",
    "outputId": "cf51d434-2d03-49c5-8f63-ef0a06c2112c"
   },
   "outputs": [
    {
     "data": {
      "image/png": "[encoded data removed]",
      "text/plain": [
       "<Figure size 720x720 with 1 Axes>"
      ]
     },
     "metadata": {},
     "output_type": "display_data"
    }
   ],
   "source": [
    "plt.figure(figsize = (10, 10))\n",
    "label=[5,4,3,2,1,'Missing']\n",
    "plt.pie(review['reviews.rating'].value_counts(), autopct='%0.2f%%')\n",
    "plt.legend(label, ncol=6, loc=9)\n",
    "plt.title('Distribution of ratings', size=14, y=-0.01)\n",
    "plt.show()"
   ]
  },
  {
   "cell_type": "markdown",
   "metadata": {
    "id": "nGNQW67Gwcp9"
   },
   "source": [
    "Data PreProcessing"
   ]
  },
  {
   "cell_type": "code",
   "execution_count": 14,
   "metadata": {
    "id": "pXBrgubOwSPT"
   },
   "outputs": [],
   "source": [
    "sentiment = {1: 0,2: 0,3: 2,4: 1,5: 1}"
   ]
  },
  {
   "cell_type": "code",
   "execution_count": 15,
   "metadata": {
    "id": "A-rWB8aJwgas"
   },
   "outputs": [],
   "source": [
    "review['sentiment']=review['reviews.rating'].map(sentiment)"
   ]
  },
  {
   "cell_type": "code",
   "execution_count": 16,
   "metadata": {
    "colab": {
     "base_uri": "https://localhost:8080/"
    },
    "id": "5s582WOyww4J",
    "outputId": "553f181d-37d8-48d0-96dd-62a7a41c316e"
   },
   "outputs": [
    {
     "data": {
      "text/plain": [
       "1    3878\n",
       "0    1662\n",
       "Name: sentiment, dtype: int64"
      ]
     },
     "execution_count": 16,
     "metadata": {},
     "output_type": "execute_result"
    }
   ],
   "source": [
    "review['sentiment'].value_counts()"
   ]
  },
  {
   "cell_type": "code",
   "execution_count": 17,
   "metadata": {
    "colab": {
     "base_uri": "https://localhost:8080/",
     "height": 266
    },
    "id": "PvwQrZPuwyxe",
    "outputId": "dd434b1a-2acd-4fdd-e150-7518e822c4dc"
   },
   "outputs": [
    {
     "data": {
      "image/png": "[encoded data removed]",
      "text/plain": [
       "<Figure size 432x288 with 1 Axes>"
      ]
     },
     "metadata": {
      "needs_background": "light"
     },
     "output_type": "display_data"
    }
   ],
   "source": [
    "counts=review['sentiment'].value_counts()\n",
    "plt.bar(counts.index, counts.values)\n",
    "plt.show()"
   ]
  },
  {
   "cell_type": "code",
   "execution_count": 18,
   "metadata": {
    "colab": {
     "base_uri": "https://localhost:8080/",
     "height": 248
    },
    "id": "Qyhf7PJpw2DQ",
    "outputId": "0dbffaf1-38fb-4f0e-9cc4-03b882bf290b"
   },
   "outputs": [
    {
     "data": {
      "image/png": "[encoded data removed]",
      "text/plain": [
       "<Figure size 432x288 with 1 Axes>"
      ]
     },
     "metadata": {},
     "output_type": "display_data"
    }
   ],
   "source": [
    "labels = ['POSITIVE', 'NEGATIVE']\n",
    "colors = ['Pink', 'Yellow']\n",
    "plt.pie(review['sentiment'].value_counts(), autopct='%0.2f%%',colors=colors)\n",
    "\n",
    "plt.title('Distribution of sentiment', size=14, y=-0.01)\n",
    "plt.legend(labels, ncol=3, loc=9)\n",
    "plt.show()"
   ]
  },
  {
   "cell_type": "code",
   "execution_count": 19,
   "metadata": {
    "colab": {
     "base_uri": "https://localhost:8080/"
    },
    "id": "oRwqVf0Zw9az",
    "outputId": "298481ca-2dc8-4656-df2e-7ba49b5cdebe"
   },
   "outputs": [
    {
     "data": {
      "text/plain": [
       "0                   We\n",
       "1                  now\n",
       "2                 have\n",
       "3                three\n",
       "4                   of\n",
       "              ...     \n",
       "1020463             TV\n",
       "1020464            and\n",
       "1020465           slow\n",
       "1020466            DSL\n",
       "1020467    connection.\n",
       "Length: 1020468, dtype: object"
      ]
     },
     "execution_count": 19,
     "metadata": {},
     "output_type": "execute_result"
    }
   ],
   "source": [
    "words = pd.Series(' '.join(review['reviews.text']).split())\n",
    "words"
   ]
  },
  {
   "cell_type": "code",
   "execution_count": 20,
   "metadata": {
    "id": "--85OJGzxSQM"
   },
   "outputs": [],
   "source": [
    "from nltk.tokenize import word_tokenize\n",
    "from nltk.corpus import wordnet\n",
    "from nltk import pos_tag\n",
    "from nltk.stem import WordNetLemmatizer"
   ]
  },
  {
   "cell_type": "code",
   "execution_count": 21,
   "metadata": {
    "colab": {
     "base_uri": "https://localhost:8080/"
    },
    "id": "DO0abjISxgTA",
    "outputId": "2fad252b-2bad-4de6-a71b-4a5f7bd0a053"
   },
   "outputs": [
    {
     "name": "stdout",
     "output_type": "stream",
     "text": [
      "179\n",
      "157\n",
      "['i', 'me', 'my', 'myself', 'we', 'our', 'ours', 'ourselves', 'you', \"you're\", \"you've\", \"you'll\", \"you'd\", 'your', 'yours', 'yourself', 'yourselves', 'he', 'him', 'his', 'himself', 'she', \"she's\", 'her', 'hers', 'herself', 'it', \"it's\", 'its', 'itself', 'they', 'them', 'their', 'theirs', 'themselves', 'what', 'which', 'who', 'whom', 'this', 'that', \"that'll\", 'these', 'those', 'am', 'is', 'are', 'was', 'were', 'be', 'been', 'being', 'have', 'has', 'had', 'having', 'do', 'does', 'did', 'doing', 'a', 'an', 'the', 'and', 'but', 'if', 'or', 'because', 'as', 'until', 'while', 'of', 'at', 'by', 'for', 'with', 'about', 'against', 'between', 'into', 'through', 'during', 'before', 'after', 'above', 'below', 'to', 'from', 'up', 'down', 'in', 'out', 'on', 'off', 'over', 'under', 'again', 'further', 'then', 'once', 'here', 'there', 'when', 'where', 'why', 'how', 'all', 'any', 'both', 'each', 'few', 'more', 'most', 'other', 'some', 'such', 'no', 'nor', 'not', 'only', 'own', 'same', 'so', 'than', 'too', 'very', 's', 't', 'can', 'will', 'just', 'don', \"don't\", 'should', \"should've\", 'now', 'd', 'll', 'm', 'o', 're', 've', 'y', 'ain', 'aren', \"aren't\", 'couldn', \"couldn't\", 'didn', \"didn't\", 'doesn', \"doesn't\", 'hadn', \"hadn't\", 'hasn', \"hasn't\", 'haven', \"haven't\", 'isn', \"isn't\", 'ma', 'mightn', \"mightn't\", 'mustn', \"mustn't\", 'needn', \"needn't\", 'shan', \"shan't\", 'shouldn', \"shouldn't\", 'wasn', \"wasn't\", 'weren', \"weren't\", 'won', \"won't\", 'wouldn', \"wouldn't\"]\n",
      "['i', 'me', 'my', 'myself', 'we', 'our', 'ours', 'ourselves', 'you', \"you're\", \"you've\", \"you'll\", \"you'd\", 'your', 'yours', 'yourself', 'yourselves', 'he', 'him', 'his', 'himself', 'she', \"she's\", 'her', 'hers', 'herself', 'it', \"it's\", 'its', 'itself', 'they', 'them', 'their', 'theirs', 'themselves', 'what', 'which', 'who', 'whom', 'this', 'that', \"that'll\", 'these', 'those', 'am', 'is', 'are', 'was', 'were', 'be', 'been', 'being', 'have', 'has', 'had', 'having', 'do', 'does', 'did', 'doing', 'a', 'an', 'the', 'and', 'but', 'if', 'or', 'because', 'as', 'until', 'while', 'of', 'at', 'by', 'for', 'with', 'about', 'against', 'between', 'into', 'through', 'during', 'before', 'after', 'above', 'below', 'to', 'from', 'up', 'down', 'in', 'out', 'on', 'off', 'over', 'under', 'again', 'further', 'then', 'once', 'here', 'there', 'when', 'where', 'why', 'how', 'all', 'any', 'both', 'each', 'few', 'more', 'most', 'other', 'some', 'such', 'only', 'own', 'same', 'so', 'than', 'too', 'very', 's', 't', 'can', 'will', 'just', 'don', 'should', \"should've\", 'd', 'll', 'm', 'o', 're', 've', 'y', 'ain', 'aren', 'couldn', 'didn', 'doesn', 'hadn', 'hasn', 'haven', 'isn', 'ma', 'mightn', 'mustn', 'needn', 'shan', 'shouldn', 'wasn', 'weren', 'won', 'wouldn']\n"
     ]
    }
   ],
   "source": [
    "stopword_list = stopwords.words('english')\n",
    "suitable_stopwords=[]\n",
    "l =[\"n'\",'nor','no','not']\n",
    "for i in stopword_list:\n",
    "    if not any(words in i for words in l):\n",
    "        suitable_stopwords.append(i)\n",
    "print(len(stopword_list))\n",
    "print(len(suitable_stopwords))\n",
    "print(stopword_list)\n",
    "print(suitable_stopwords)"
   ]
  },
  {
   "cell_type": "code",
   "execution_count": 22,
   "metadata": {
    "id": "Fg3Z7Y6-xih8"
   },
   "outputs": [],
   "source": [
    "suitable_stopwords=['i', 'me', 'my', 'myself', 'we', 'our', 'ours', 'ourselves', 'you','' \"you're\", \"you've\", \"you'll\", \"you'd\", 'your', 'yours', 'yourself', 'yourselves', 'he', 'him', 'his', 'himself', 'she', \"she's\", 'her', 'hers', 'herself', 'it', \"it's\", 'its', 'itself', 'they', 'them', 'their', 'theirs', 'themselves', 'what', 'which', 'who', 'whom', 'this', 'that', \"that'll\", 'these', 'those', 'am', 'is', 'are', 'was', 'were', 'be', 'been', 'being', 'have', 'has', 'had', 'having', 'do', 'does', 'did', 'doing', 'a', 'an', 'the', 'and', 'but', 'if', 'or', 'because', 'as', 'until', 'while', 'of', 'at', 'by', 'for', 'with', 'about', 'against', 'between', 'into', 'through', 'during', 'before', 'after', 'above', 'below', 'to', 'from', 'up', 'down', 'in', 'out', 'on', 'off', 'over', 'under', 'again', 'further', 'then', 'once', 'here', 'there', 'when', 'where', 'why', 'how', 'all', 'any', 'both', 'each', 'few', 'more', 'most', 'other', 'some', 'such', 'no', 'nor', 'not', 'only', 'own', 'same', 'so', 'than', 'too', 'very', 's', 't', 'can', 'will', 'just', 'don', \"don't\", 'should','play','playing','tablet','use','get','kindel','read','book','device','year','time','want', \"should've\", 'now', 'd', 'll', 'm', 'o', 're', 've', 'y']\n",
    "replace_list=['ain','hate','bad','worse', 'aren', 'couldn', 'didn', 'doesn', 'hadn', 'hasn', 'haven', 'isn', 'mightn', 'mustn', 'needn',\n",
    "              'shan', 'shouldn', 'wasn', 'weren', 'won', 'wouldn',\"n't\",\"n'\"]"
   ]
  },
  {
   "cell_type": "code",
   "execution_count": 23,
   "metadata": {
    "id": "4uiHd_yGyAHp"
   },
   "outputs": [],
   "source": [
    "def cleanstr(text):\n",
    "    text=text.lower()\n",
    "    text = re.compile('[%s]' % re.escape(string.punctuation)).sub(' ', text)\n",
    "    text = re.sub('\\s+', ' ', text)\n",
    "    text = re.sub(' \\d+', ' ', text)\n",
    "    return text"
   ]
  },
  {
   "cell_type": "code",
   "execution_count": 24,
   "metadata": {
    "id": "hdOPIJlayCuK"
   },
   "outputs": [],
   "source": [
    "def remove_stopwords(stmt):\n",
    "    filtered_sentence = []\n",
    "    stmt=stmt.lower()\n",
    "    words = word_tokenize(stmt)\n",
    "    \n",
    "    for w in words:\n",
    "        if w not in suitable_stopwords:\n",
    "            if w not in replace_list:\n",
    "                filtered_sentence.append(w)\n",
    "            else:\n",
    "                filtered_sentence.append(w+' not')\n",
    "    return \" \".join(filtered_sentence)"
   ]
  },
  {
   "cell_type": "code",
   "execution_count": 49,
   "metadata": {
    "id": "mp5FTwTFyFe8"
   },
   "outputs": [],
   "source": [
    "def get_wordnet_pos(tag):\n",
    "    if tag.startswith('J'):\n",
    "        return wordnet.ADJ\n",
    "    elif tag.startswith('V'):\n",
    "        return wordnet.VERB\n",
    "    elif tag.startswith('N'):\n",
    "        return wordnet.NOUN\n",
    "    elif tag.startswith('R'):\n",
    "        return wordnet.ADV\n",
    "    else:\n",
    "        return wordnet.ADJ"
   ]
  },
  {
   "cell_type": "code",
   "execution_count": 26,
   "metadata": {
    "id": "WDcoCV-ryHl3"
   },
   "outputs": [],
   "source": [
    "def lemmatize(text):\n",
    "    wl = WordNetLemmatizer()\n",
    "    lemmatized_sentence = []\n",
    "    # Tokenize the sentence\n",
    "    words = word_tokenize(text)\n",
    "    word_pos_tags = nltk.pos_tag(words)\n",
    "    for idx, tag in enumerate(word_pos_tags):\n",
    "        lemmatized_sentence.append(wl.lemmatize(tag[0], get_wordnet_pos(tag[1])))\n",
    "\n",
    "    return \" \".join(lemmatized_sentence)"
   ]
  },
  {
   "cell_type": "code",
   "execution_count": 27,
   "metadata": {
    "colab": {
     "base_uri": "https://localhost:8080/"
    },
    "id": "6uahgf3hyJmK",
    "outputId": "a60f5907-c565-4f5f-fac6-cede868caee9"
   },
   "outputs": [
    {
     "name": "stderr",
     "output_type": "stream",
     "text": [
      "[nltk_data] Downloading package omw-1.4 to\n",
      "[nltk_data]     C:\\Users\\Consultant\\AppData\\Roaming\\nltk_data...\n",
      "[nltk_data]   Package omw-1.4 is already up-to-date!\n",
      "[nltk_data] Downloading package punkt to\n",
      "[nltk_data]     C:\\Users\\Consultant\\AppData\\Roaming\\nltk_data...\n",
      "[nltk_data]   Package punkt is already up-to-date!\n",
      "[nltk_data] Downloading package averaged_perceptron_tagger to\n",
      "[nltk_data]     C:\\Users\\Consultant\\AppData\\Roaming\\nltk_data...\n",
      "[nltk_data]   Package averaged_perceptron_tagger is already up-to-\n",
      "[nltk_data]       date!\n",
      "[nltk_data] Downloading package wordnet to\n",
      "[nltk_data]     C:\\Users\\Consultant\\AppData\\Roaming\\nltk_data...\n",
      "[nltk_data]   Package wordnet is already up-to-date!\n"
     ]
    },
    {
     "data": {
      "text/plain": [
       "True"
      ]
     },
     "execution_count": 27,
     "metadata": {},
     "output_type": "execute_result"
    }
   ],
   "source": [
    "nltk.download('omw-1.4')\n",
    "import nltk\n",
    "nltk.download('punkt')\n",
    "nltk.download('averaged_perceptron_tagger')\n",
    "nltk.download('wordnet')"
   ]
  },
  {
   "cell_type": "raw",
   "metadata": {},
   "source": [
    "df1['content']=df1['content'].apply(cleanstr)\n",
    "df1.content=df1.content.apply(remove_stopwords)\n",
    "df1.content=df1.content.apply(lemmatize)\n",
    "df1.content.head()"
   ]
  },
  {
   "cell_type": "code",
   "execution_count": null,
   "metadata": {},
   "outputs": [],
   "source": [
    "error, reliable, "
   ]
  },
  {
   "cell_type": "code",
   "execution_count": 50,
   "metadata": {
    "colab": {
     "base_uri": "https://localhost:8080/",
     "height": 140
    },
    "id": "6NEfwDrmyLey",
    "outputId": "395e5096-f392-42de-d89d-d53680e5f8cd"
   },
   "outputs": [
    {
     "data": {
      "text/plain": [
       "0       three device home help save cable bill spectru...\n",
       "1       finally decide buy one help keep tv relevant a...\n",
       "2       work overtime nd job damn nerve spend money ca...\n",
       "3       buy roku expand fourth room happy see offer fr...\n",
       "4       th roku work good rest scar ghz wireless conne...\n",
       "                              ...                        \n",
       "5535    overall eventually moderately satisfied initia...\n",
       "5536    return today though day reason activation fee ...\n",
       "5537    bought product attempt activate come error inf...\n",
       "5538    go backwards year ago produce new device first...\n",
       "5539    lil great price set difficult even luddite lik...\n",
       "Name: text, Length: 5540, dtype: object"
      ]
     },
     "execution_count": 50,
     "metadata": {},
     "output_type": "execute_result"
    }
   ],
   "source": [
    "review['text']=review['reviews.text'].apply(cleanstr)\n",
    "review['text']=review['text'].apply(remove_stopwords)\n",
    "review['text']=review['text'].apply(lemmatize)\n",
    "review['text']"
   ]
  },
  {
   "cell_type": "code",
   "execution_count": 51,
   "metadata": {},
   "outputs": [
    {
     "data": {
      "text/html": [
       "<div>\n",
       "<style scoped>\n",
       "    .dataframe tbody tr th:only-of-type {\n",
       "        vertical-align: middle;\n",
       "    }\n",
       "\n",
       "    .dataframe tbody tr th {\n",
       "        vertical-align: top;\n",
       "    }\n",
       "\n",
       "    .dataframe thead th {\n",
       "        text-align: right;\n",
       "    }\n",
       "</style>\n",
       "<table border=\"1\" class=\"dataframe\">\n",
       "  <thead>\n",
       "    <tr style=\"text-align: right;\">\n",
       "      <th></th>\n",
       "      <th>reviews.text</th>\n",
       "      <th>reviews.rating</th>\n",
       "      <th>sentiment</th>\n",
       "      <th>text</th>\n",
       "      <th>random_number</th>\n",
       "    </tr>\n",
       "  </thead>\n",
       "  <tbody>\n",
       "    <tr>\n",
       "      <th>0</th>\n",
       "      <td>We now have three of these devices in our home...</td>\n",
       "      <td>5.0</td>\n",
       "      <td>1</td>\n",
       "      <td>three device home help save cable bill spectru...</td>\n",
       "      <td>0.273798</td>\n",
       "    </tr>\n",
       "    <tr>\n",
       "      <th>1</th>\n",
       "      <td>I finally decided to buy one to help keep my T...</td>\n",
       "      <td>5.0</td>\n",
       "      <td>1</td>\n",
       "      <td>finally decide buy one help keep tv relevant a...</td>\n",
       "      <td>1.953780</td>\n",
       "    </tr>\n",
       "    <tr>\n",
       "      <th>2</th>\n",
       "      <td>I have been working on overtime, a 2nd job and...</td>\n",
       "      <td>5.0</td>\n",
       "      <td>1</td>\n",
       "      <td>work overtime nd job damn nerve spend money ca...</td>\n",
       "      <td>-0.097461</td>\n",
       "    </tr>\n",
       "    <tr>\n",
       "      <th>3</th>\n",
       "      <td>I bought this Roku to expand into a fourth roo...</td>\n",
       "      <td>5.0</td>\n",
       "      <td>1</td>\n",
       "      <td>buy roku expand fourth room happy see offer fr...</td>\n",
       "      <td>0.776764</td>\n",
       "    </tr>\n",
       "    <tr>\n",
       "      <th>4</th>\n",
       "      <td>This is my 5th Roku and it works just as good ...</td>\n",
       "      <td>5.0</td>\n",
       "      <td>1</td>\n",
       "      <td>th roku work good rest scar ghz wireless conne...</td>\n",
       "      <td>1.060792</td>\n",
       "    </tr>\n",
       "    <tr>\n",
       "      <th>...</th>\n",
       "      <td>...</td>\n",
       "      <td>...</td>\n",
       "      <td>...</td>\n",
       "      <td>...</td>\n",
       "      <td>...</td>\n",
       "    </tr>\n",
       "    <tr>\n",
       "      <th>5535</th>\n",
       "      <td>Overall, was I eventually moderately satisfied...</td>\n",
       "      <td>4.0</td>\n",
       "      <td>1</td>\n",
       "      <td>overall eventually moderately satisfied initia...</td>\n",
       "      <td>1.229886</td>\n",
       "    </tr>\n",
       "    <tr>\n",
       "      <th>5536</th>\n",
       "      <td>I had to return it today though I only had it ...</td>\n",
       "      <td>1.0</td>\n",
       "      <td>0</td>\n",
       "      <td>return today though day reason activation fee ...</td>\n",
       "      <td>0.444582</td>\n",
       "    </tr>\n",
       "    <tr>\n",
       "      <th>5537</th>\n",
       "      <td>I just bought this product and when I attempte...</td>\n",
       "      <td>1.0</td>\n",
       "      <td>0</td>\n",
       "      <td>bought product attempt activate come error inf...</td>\n",
       "      <td>0.779947</td>\n",
       "    </tr>\n",
       "    <tr>\n",
       "      <th>5538</th>\n",
       "      <td>Why have they gone backwards from a few years ...</td>\n",
       "      <td>2.0</td>\n",
       "      <td>0</td>\n",
       "      <td>go backwards year ago produce new device first...</td>\n",
       "      <td>-0.253924</td>\n",
       "    </tr>\n",
       "    <tr>\n",
       "      <th>5539</th>\n",
       "      <td>This lil device is great for the price. Set-up...</td>\n",
       "      <td>5.0</td>\n",
       "      <td>1</td>\n",
       "      <td>lil great price set difficult even luddite lik...</td>\n",
       "      <td>1.013205</td>\n",
       "    </tr>\n",
       "  </tbody>\n",
       "</table>\n",
       "<p>5540 rows × 5 columns</p>\n",
       "</div>"
      ],
      "text/plain": [
       "                                           reviews.text  reviews.rating  \\\n",
       "0     We now have three of these devices in our home...             5.0   \n",
       "1     I finally decided to buy one to help keep my T...             5.0   \n",
       "2     I have been working on overtime, a 2nd job and...             5.0   \n",
       "3     I bought this Roku to expand into a fourth roo...             5.0   \n",
       "4     This is my 5th Roku and it works just as good ...             5.0   \n",
       "...                                                 ...             ...   \n",
       "5535  Overall, was I eventually moderately satisfied...             4.0   \n",
       "5536  I had to return it today though I only had it ...             1.0   \n",
       "5537  I just bought this product and when I attempte...             1.0   \n",
       "5538  Why have they gone backwards from a few years ...             2.0   \n",
       "5539  This lil device is great for the price. Set-up...             5.0   \n",
       "\n",
       "      sentiment                                               text  \\\n",
       "0             1  three device home help save cable bill spectru...   \n",
       "1             1  finally decide buy one help keep tv relevant a...   \n",
       "2             1  work overtime nd job damn nerve spend money ca...   \n",
       "3             1  buy roku expand fourth room happy see offer fr...   \n",
       "4             1  th roku work good rest scar ghz wireless conne...   \n",
       "...         ...                                                ...   \n",
       "5535          1  overall eventually moderately satisfied initia...   \n",
       "5536          0  return today though day reason activation fee ...   \n",
       "5537          0  bought product attempt activate come error inf...   \n",
       "5538          0  go backwards year ago produce new device first...   \n",
       "5539          1  lil great price set difficult even luddite lik...   \n",
       "\n",
       "      random_number  \n",
       "0          0.273798  \n",
       "1          1.953780  \n",
       "2         -0.097461  \n",
       "3          0.776764  \n",
       "4          1.060792  \n",
       "...             ...  \n",
       "5535       1.229886  \n",
       "5536       0.444582  \n",
       "5537       0.779947  \n",
       "5538      -0.253924  \n",
       "5539       1.013205  \n",
       "\n",
       "[5540 rows x 5 columns]"
      ]
     },
     "execution_count": 51,
     "metadata": {},
     "output_type": "execute_result"
    }
   ],
   "source": [
    "review"
   ]
  },
  {
   "cell_type": "code",
   "execution_count": 52,
   "metadata": {
    "id": "G4_3Q15eyOkS"
   },
   "outputs": [],
   "source": [
    "positive = review[review['sentiment'] == 1]\n",
    "negative = review[review['sentiment'] == 0]"
   ]
  },
  {
   "cell_type": "code",
   "execution_count": 53,
   "metadata": {},
   "outputs": [
    {
     "data": {
      "text/html": [
       "<div>\n",
       "<style scoped>\n",
       "    .dataframe tbody tr th:only-of-type {\n",
       "        vertical-align: middle;\n",
       "    }\n",
       "\n",
       "    .dataframe tbody tr th {\n",
       "        vertical-align: top;\n",
       "    }\n",
       "\n",
       "    .dataframe thead th {\n",
       "        text-align: right;\n",
       "    }\n",
       "</style>\n",
       "<table border=\"1\" class=\"dataframe\">\n",
       "  <thead>\n",
       "    <tr style=\"text-align: right;\">\n",
       "      <th></th>\n",
       "      <th>reviews.text</th>\n",
       "      <th>reviews.rating</th>\n",
       "      <th>sentiment</th>\n",
       "      <th>text</th>\n",
       "      <th>random_number</th>\n",
       "    </tr>\n",
       "  </thead>\n",
       "  <tbody>\n",
       "    <tr>\n",
       "      <th>0</th>\n",
       "      <td>We now have three of these devices in our home...</td>\n",
       "      <td>5.0</td>\n",
       "      <td>1</td>\n",
       "      <td>three device home help save cable bill spectru...</td>\n",
       "      <td>0.273798</td>\n",
       "    </tr>\n",
       "    <tr>\n",
       "      <th>1</th>\n",
       "      <td>I finally decided to buy one to help keep my T...</td>\n",
       "      <td>5.0</td>\n",
       "      <td>1</td>\n",
       "      <td>finally decide buy one help keep tv relevant a...</td>\n",
       "      <td>1.953780</td>\n",
       "    </tr>\n",
       "    <tr>\n",
       "      <th>2</th>\n",
       "      <td>I have been working on overtime, a 2nd job and...</td>\n",
       "      <td>5.0</td>\n",
       "      <td>1</td>\n",
       "      <td>work overtime nd job damn nerve spend money ca...</td>\n",
       "      <td>-0.097461</td>\n",
       "    </tr>\n",
       "    <tr>\n",
       "      <th>3</th>\n",
       "      <td>I bought this Roku to expand into a fourth roo...</td>\n",
       "      <td>5.0</td>\n",
       "      <td>1</td>\n",
       "      <td>buy roku expand fourth room happy see offer fr...</td>\n",
       "      <td>0.776764</td>\n",
       "    </tr>\n",
       "    <tr>\n",
       "      <th>4</th>\n",
       "      <td>This is my 5th Roku and it works just as good ...</td>\n",
       "      <td>5.0</td>\n",
       "      <td>1</td>\n",
       "      <td>th roku work good rest scar ghz wireless conne...</td>\n",
       "      <td>1.060792</td>\n",
       "    </tr>\n",
       "    <tr>\n",
       "      <th>...</th>\n",
       "      <td>...</td>\n",
       "      <td>...</td>\n",
       "      <td>...</td>\n",
       "      <td>...</td>\n",
       "      <td>...</td>\n",
       "    </tr>\n",
       "    <tr>\n",
       "      <th>5532</th>\n",
       "      <td>I have been working on overtime, a 2nd job and...</td>\n",
       "      <td>5.0</td>\n",
       "      <td>1</td>\n",
       "      <td>work overtime nd job damn nerve spend money ca...</td>\n",
       "      <td>-0.312518</td>\n",
       "    </tr>\n",
       "    <tr>\n",
       "      <th>5533</th>\n",
       "      <td>I bought this Roku to expand into a fourth roo...</td>\n",
       "      <td>5.0</td>\n",
       "      <td>1</td>\n",
       "      <td>buy roku expand fourth room happy see offer fr...</td>\n",
       "      <td>1.117455</td>\n",
       "    </tr>\n",
       "    <tr>\n",
       "      <th>5534</th>\n",
       "      <td>This is my 5th Roku and it works just as good ...</td>\n",
       "      <td>5.0</td>\n",
       "      <td>1</td>\n",
       "      <td>th roku work good rest scar ghz wireless conne...</td>\n",
       "      <td>1.219378</td>\n",
       "    </tr>\n",
       "    <tr>\n",
       "      <th>5535</th>\n",
       "      <td>Overall, was I eventually moderately satisfied...</td>\n",
       "      <td>4.0</td>\n",
       "      <td>1</td>\n",
       "      <td>overall eventually moderately satisfied initia...</td>\n",
       "      <td>1.229886</td>\n",
       "    </tr>\n",
       "    <tr>\n",
       "      <th>5539</th>\n",
       "      <td>This lil device is great for the price. Set-up...</td>\n",
       "      <td>5.0</td>\n",
       "      <td>1</td>\n",
       "      <td>lil great price set difficult even luddite lik...</td>\n",
       "      <td>1.013205</td>\n",
       "    </tr>\n",
       "  </tbody>\n",
       "</table>\n",
       "<p>3878 rows × 5 columns</p>\n",
       "</div>"
      ],
      "text/plain": [
       "                                           reviews.text  reviews.rating  \\\n",
       "0     We now have three of these devices in our home...             5.0   \n",
       "1     I finally decided to buy one to help keep my T...             5.0   \n",
       "2     I have been working on overtime, a 2nd job and...             5.0   \n",
       "3     I bought this Roku to expand into a fourth roo...             5.0   \n",
       "4     This is my 5th Roku and it works just as good ...             5.0   \n",
       "...                                                 ...             ...   \n",
       "5532  I have been working on overtime, a 2nd job and...             5.0   \n",
       "5533  I bought this Roku to expand into a fourth roo...             5.0   \n",
       "5534  This is my 5th Roku and it works just as good ...             5.0   \n",
       "5535  Overall, was I eventually moderately satisfied...             4.0   \n",
       "5539  This lil device is great for the price. Set-up...             5.0   \n",
       "\n",
       "      sentiment                                               text  \\\n",
       "0             1  three device home help save cable bill spectru...   \n",
       "1             1  finally decide buy one help keep tv relevant a...   \n",
       "2             1  work overtime nd job damn nerve spend money ca...   \n",
       "3             1  buy roku expand fourth room happy see offer fr...   \n",
       "4             1  th roku work good rest scar ghz wireless conne...   \n",
       "...         ...                                                ...   \n",
       "5532          1  work overtime nd job damn nerve spend money ca...   \n",
       "5533          1  buy roku expand fourth room happy see offer fr...   \n",
       "5534          1  th roku work good rest scar ghz wireless conne...   \n",
       "5535          1  overall eventually moderately satisfied initia...   \n",
       "5539          1  lil great price set difficult even luddite lik...   \n",
       "\n",
       "      random_number  \n",
       "0          0.273798  \n",
       "1          1.953780  \n",
       "2         -0.097461  \n",
       "3          0.776764  \n",
       "4          1.060792  \n",
       "...             ...  \n",
       "5532      -0.312518  \n",
       "5533       1.117455  \n",
       "5534       1.219378  \n",
       "5535       1.229886  \n",
       "5539       1.013205  \n",
       "\n",
       "[3878 rows x 5 columns]"
      ]
     },
     "execution_count": 53,
     "metadata": {},
     "output_type": "execute_result"
    }
   ],
   "source": [
    "positive"
   ]
  },
  {
   "cell_type": "code",
   "execution_count": 54,
   "metadata": {},
   "outputs": [
    {
     "data": {
      "text/plain": [
       "Index(['reviews.text', 'reviews.rating', 'sentiment', 'text', 'random_number'], dtype='object')"
      ]
     },
     "execution_count": 54,
     "metadata": {},
     "output_type": "execute_result"
    }
   ],
   "source": [
    "review.columns"
   ]
  },
  {
   "cell_type": "code",
   "execution_count": 57,
   "metadata": {
    "colab": {
     "base_uri": "https://localhost:8080/",
     "height": 198
    },
    "id": "jEdWjT0vyuB8",
    "outputId": "04cb1401-bf9e-4990-8d77-0c9a685bbc4d"
   },
   "outputs": [
    {
     "data": {
      "image/png": "[encoded data removed]",
      "text/plain": [
       "<Figure size 432x288 with 1 Axes>"
      ]
     },
     "metadata": {
      "needs_background": "light"
     },
     "output_type": "display_data"
    }
   ],
   "source": [
    "pos = \" \".join(review for review in positive.text)\n",
    "wordcloud2 = WordCloud(stopwords=suitable_stopwords).generate(pos)\n",
    "plt.imshow(wordcloud2, interpolation='bilinear')\n",
    "plt.axis(\"off\")\n",
    "plt.title(\"Positive Sentiment ADJ \")\n",
    "plt.savefig('positivewordcloud33.png')\n",
    "plt.show()"
   ]
  },
  {
   "cell_type": "code",
   "execution_count": 59,
   "metadata": {
    "colab": {
     "base_uri": "https://localhost:8080/",
     "height": 198
    },
    "id": "s3IzaWsFyxGf",
    "outputId": "df39d0cd-7428-49a4-af22-039938270b48"
   },
   "outputs": [
    {
     "data": {
      "image/png": "[encoded data removed]",
      "text/plain": [
       "<Figure size 432x288 with 1 Axes>"
      ]
     },
     "metadata": {
      "needs_background": "light"
     },
     "output_type": "display_data"
    }
   ],
   "source": [
    "neg = \" \".join(review for review in negative.text)\n",
    "wordcloud3 = WordCloud(stopwords=replace_list).generate(neg)\n",
    "plt.imshow(wordcloud3, interpolation='bilinear')\n",
    "plt.axis(\"off\")\n",
    "plt.title(\"negative Sentiment ADJ \")\n",
    "plt.savefig('negative wordcloud33.png')\n",
    "plt.show()"
   ]
  },
  {
   "cell_type": "code",
   "execution_count": 34,
   "metadata": {},
   "outputs": [
    {
     "data": {
      "text/plain": [
       "1    3878\n",
       "0    1662\n",
       "Name: sentiment, dtype: int64"
      ]
     },
     "execution_count": 34,
     "metadata": {},
     "output_type": "execute_result"
    }
   ],
   "source": [
    "review['sentiment'].value_counts()"
   ]
  },
  {
   "cell_type": "code",
   "execution_count": 35,
   "metadata": {
    "id": "2GV893szy0UP"
   },
   "outputs": [],
   "source": [
    "index = review.index\n",
    "review['random_number'] = np.random.randn(len(index))\n",
    "train = review[review['random_number'] <= 0.8]\n",
    "test = review[review['random_number'] > 0.8]"
   ]
  },
  {
   "cell_type": "code",
   "execution_count": 36,
   "metadata": {
    "id": "6XIaie27y6-l"
   },
   "outputs": [],
   "source": [
    "from sklearn.feature_extraction.text import TfidfVectorizer\n",
    "from sklearn.svm import LinearSVC"
   ]
  },
  {
   "cell_type": "code",
   "execution_count": 37,
   "metadata": {},
   "outputs": [
    {
     "data": {
      "text/html": [
       "<div>\n",
       "<style scoped>\n",
       "    .dataframe tbody tr th:only-of-type {\n",
       "        vertical-align: middle;\n",
       "    }\n",
       "\n",
       "    .dataframe tbody tr th {\n",
       "        vertical-align: top;\n",
       "    }\n",
       "\n",
       "    .dataframe thead th {\n",
       "        text-align: right;\n",
       "    }\n",
       "</style>\n",
       "<table border=\"1\" class=\"dataframe\">\n",
       "  <thead>\n",
       "    <tr style=\"text-align: right;\">\n",
       "      <th></th>\n",
       "      <th>reviews.text</th>\n",
       "      <th>reviews.rating</th>\n",
       "      <th>sentiment</th>\n",
       "      <th>text</th>\n",
       "      <th>random_number</th>\n",
       "    </tr>\n",
       "  </thead>\n",
       "  <tbody>\n",
       "    <tr>\n",
       "      <th>0</th>\n",
       "      <td>We now have three of these devices in our home...</td>\n",
       "      <td>5.0</td>\n",
       "      <td>1</td>\n",
       "      <td>three device home help save cable bill spectru...</td>\n",
       "      <td>0.273798</td>\n",
       "    </tr>\n",
       "    <tr>\n",
       "      <th>2</th>\n",
       "      <td>I have been working on overtime, a 2nd job and...</td>\n",
       "      <td>5.0</td>\n",
       "      <td>1</td>\n",
       "      <td>work overtime nd job damn nerve spend money ca...</td>\n",
       "      <td>-0.097461</td>\n",
       "    </tr>\n",
       "    <tr>\n",
       "      <th>3</th>\n",
       "      <td>I bought this Roku to expand into a fourth roo...</td>\n",
       "      <td>5.0</td>\n",
       "      <td>1</td>\n",
       "      <td>buy roku expand fourth room happy see offer fr...</td>\n",
       "      <td>0.776764</td>\n",
       "    </tr>\n",
       "    <tr>\n",
       "      <th>5</th>\n",
       "      <td>Overall, was I eventually moderately satisfied...</td>\n",
       "      <td>4.0</td>\n",
       "      <td>1</td>\n",
       "      <td>overall eventually moderately satisfied initia...</td>\n",
       "      <td>-1.077765</td>\n",
       "    </tr>\n",
       "    <tr>\n",
       "      <th>6</th>\n",
       "      <td>I had to return it today though I only had it ...</td>\n",
       "      <td>1.0</td>\n",
       "      <td>0</td>\n",
       "      <td>return today though day reason activation fee ...</td>\n",
       "      <td>-1.331493</td>\n",
       "    </tr>\n",
       "    <tr>\n",
       "      <th>...</th>\n",
       "      <td>...</td>\n",
       "      <td>...</td>\n",
       "      <td>...</td>\n",
       "      <td>...</td>\n",
       "      <td>...</td>\n",
       "    </tr>\n",
       "    <tr>\n",
       "      <th>5531</th>\n",
       "      <td>I finally decided to buy one to help keep my T...</td>\n",
       "      <td>5.0</td>\n",
       "      <td>1</td>\n",
       "      <td>finally decide buy one help keep tv relevant a...</td>\n",
       "      <td>0.071096</td>\n",
       "    </tr>\n",
       "    <tr>\n",
       "      <th>5532</th>\n",
       "      <td>I have been working on overtime, a 2nd job and...</td>\n",
       "      <td>5.0</td>\n",
       "      <td>1</td>\n",
       "      <td>work overtime nd job damn nerve spend money ca...</td>\n",
       "      <td>-0.312518</td>\n",
       "    </tr>\n",
       "    <tr>\n",
       "      <th>5536</th>\n",
       "      <td>I had to return it today though I only had it ...</td>\n",
       "      <td>1.0</td>\n",
       "      <td>0</td>\n",
       "      <td>return today though day reason activation fee ...</td>\n",
       "      <td>0.444582</td>\n",
       "    </tr>\n",
       "    <tr>\n",
       "      <th>5537</th>\n",
       "      <td>I just bought this product and when I attempte...</td>\n",
       "      <td>1.0</td>\n",
       "      <td>0</td>\n",
       "      <td>bought product attempt activate come error inf...</td>\n",
       "      <td>0.779947</td>\n",
       "    </tr>\n",
       "    <tr>\n",
       "      <th>5538</th>\n",
       "      <td>Why have they gone backwards from a few years ...</td>\n",
       "      <td>2.0</td>\n",
       "      <td>0</td>\n",
       "      <td>go backwards year ago produce new device first...</td>\n",
       "      <td>-0.253924</td>\n",
       "    </tr>\n",
       "  </tbody>\n",
       "</table>\n",
       "<p>4397 rows × 5 columns</p>\n",
       "</div>"
      ],
      "text/plain": [
       "                                           reviews.text  reviews.rating  \\\n",
       "0     We now have three of these devices in our home...             5.0   \n",
       "2     I have been working on overtime, a 2nd job and...             5.0   \n",
       "3     I bought this Roku to expand into a fourth roo...             5.0   \n",
       "5     Overall, was I eventually moderately satisfied...             4.0   \n",
       "6     I had to return it today though I only had it ...             1.0   \n",
       "...                                                 ...             ...   \n",
       "5531  I finally decided to buy one to help keep my T...             5.0   \n",
       "5532  I have been working on overtime, a 2nd job and...             5.0   \n",
       "5536  I had to return it today though I only had it ...             1.0   \n",
       "5537  I just bought this product and when I attempte...             1.0   \n",
       "5538  Why have they gone backwards from a few years ...             2.0   \n",
       "\n",
       "      sentiment                                               text  \\\n",
       "0             1  three device home help save cable bill spectru...   \n",
       "2             1  work overtime nd job damn nerve spend money ca...   \n",
       "3             1  buy roku expand fourth room happy see offer fr...   \n",
       "5             1  overall eventually moderately satisfied initia...   \n",
       "6             0  return today though day reason activation fee ...   \n",
       "...         ...                                                ...   \n",
       "5531          1  finally decide buy one help keep tv relevant a...   \n",
       "5532          1  work overtime nd job damn nerve spend money ca...   \n",
       "5536          0  return today though day reason activation fee ...   \n",
       "5537          0  bought product attempt activate come error inf...   \n",
       "5538          0  go backwards year ago produce new device first...   \n",
       "\n",
       "      random_number  \n",
       "0          0.273798  \n",
       "2         -0.097461  \n",
       "3          0.776764  \n",
       "5         -1.077765  \n",
       "6         -1.331493  \n",
       "...             ...  \n",
       "5531       0.071096  \n",
       "5532      -0.312518  \n",
       "5536       0.444582  \n",
       "5537       0.779947  \n",
       "5538      -0.253924  \n",
       "\n",
       "[4397 rows x 5 columns]"
      ]
     },
     "execution_count": 37,
     "metadata": {},
     "output_type": "execute_result"
    }
   ],
   "source": [
    "train"
   ]
  },
  {
   "cell_type": "code",
   "execution_count": 38,
   "metadata": {
    "id": "Gn4EDNtsy-Qn"
   },
   "outputs": [],
   "source": [
    "tfidf = TfidfVectorizer()\n",
    "train_matrix = tfidf.fit_transform(train['text'])\n",
    "test_matrix = tfidf.transform(test['text'])"
   ]
  },
  {
   "cell_type": "code",
   "execution_count": 39,
   "metadata": {},
   "outputs": [
    {
     "data": {
      "text/plain": [
       "<1143x425 sparse matrix of type '<class 'numpy.float64'>'\n",
       "\twith 70773 stored elements in Compressed Sparse Row format>"
      ]
     },
     "execution_count": 39,
     "metadata": {},
     "output_type": "execute_result"
    }
   ],
   "source": [
    "train_matrix\n",
    "test_matrix"
   ]
  },
  {
   "cell_type": "code",
   "execution_count": 40,
   "metadata": {
    "id": "V8aCXKMHzBFq"
   },
   "outputs": [],
   "source": [
    "clf = LinearSVC()"
   ]
  },
  {
   "cell_type": "code",
   "execution_count": 41,
   "metadata": {
    "id": "Bc_aZBmqzEek"
   },
   "outputs": [],
   "source": [
    "X_train = train_matrix\n",
    "X_test = test_matrix\n",
    "y_train = train['sentiment']\n",
    "y_test = test['sentiment']"
   ]
  },
  {
   "cell_type": "code",
   "execution_count": 42,
   "metadata": {
    "colab": {
     "base_uri": "https://localhost:8080/"
    },
    "id": "pGTKhxR6zLfd",
    "outputId": "df199ca1-0b18-4208-92c5-9c11717a3dbb"
   },
   "outputs": [
    {
     "data": {
      "text/plain": [
       "LinearSVC()"
      ]
     },
     "execution_count": 42,
     "metadata": {},
     "output_type": "execute_result"
    }
   ],
   "source": [
    "clf.fit(X_train,y_train)"
   ]
  },
  {
   "cell_type": "code",
   "execution_count": 43,
   "metadata": {
    "id": "i7W99HmCzN6T"
   },
   "outputs": [],
   "source": [
    "predictions = clf.predict(X_test)"
   ]
  },
  {
   "cell_type": "code",
   "execution_count": 44,
   "metadata": {
    "colab": {
     "base_uri": "https://localhost:8080/"
    },
    "id": "QGHHKax1zP7y",
    "outputId": "a78bd44c-eb28-44a2-fdc0-f44a82901170"
   },
   "outputs": [
    {
     "name": "stdout",
     "output_type": "stream",
     "text": [
      "[[349   0]\n",
      " [  0 794]]\n",
      "\n",
      "\n",
      "              precision    recall  f1-score   support\n",
      "\n",
      "           0       1.00      1.00      1.00       349\n",
      "           1       1.00      1.00      1.00       794\n",
      "\n",
      "    accuracy                           1.00      1143\n",
      "   macro avg       1.00      1.00      1.00      1143\n",
      "weighted avg       1.00      1.00      1.00      1143\n",
      "\n"
     ]
    },
    {
     "data": {
      "text/plain": [
       "1.0"
      ]
     },
     "execution_count": 44,
     "metadata": {},
     "output_type": "execute_result"
    }
   ],
   "source": [
    "from sklearn.metrics import confusion_matrix, classification_report\n",
    "print(confusion_matrix(y_test, predictions))\n",
    "print('\\n')\n",
    "print(classification_report(y_test, predictions))\n",
    "clf.score(X_train, y_train)"
   ]
  },
  {
   "cell_type": "code",
   "execution_count": 45,
   "metadata": {
    "colab": {
     "base_uri": "https://localhost:8080/"
    },
    "id": "bXSXocyszTIg",
    "outputId": "7e31b782-1e4c-4f25-9982-ce51284e6d9e"
   },
   "outputs": [
    {
     "name": "stdout",
     "output_type": "stream",
     "text": [
      "fine calculator work great function probably ever recommend design flaw attach photo see screen notice turn calculator look angle would keep desk test number legible line sight almost perpendicular direct see clearly affect function calculator get inconvenient hover calculator lift test take set constant movement suspicious enough warrant warning proctor\n"
     ]
    }
   ],
   "source": [
    "text=\"This is a fine calculator. It works great. Has more functions than I'll probably ever use. Then why do I not recommend it?There is a design flaw.I have attached 3 photos where you see the screen. You'll notice that when you turn the calculator on and look at it from an angle (as you would if you kept it on a desk while you were testing) the numbers are not legible. Your line of sight has to be almost perpendicular or direct to see it clearly. This does not affect the function of the calculator but it gets inconvenient when you have to hover over the calculator or lift it up to read it. In a test taking setting this constant movement was suspicious enough to warrant a warning from the proctor. \"\n",
    "text=cleanstr(text)\n",
    "text=remove_stopwords(text)\n",
    "text=(lemmatize(text))\n",
    "print(text)"
   ]
  },
  {
   "cell_type": "code",
   "execution_count": 47,
   "metadata": {
    "colab": {
     "base_uri": "https://localhost:8080/"
    },
    "id": "ozfT8aguzYGn",
    "outputId": "d5cc88b6-bf2d-4d26-9c41-305c91711cc7"
   },
   "outputs": [
    {
     "name": "stdout",
     "output_type": "stream",
     "text": [
      "Positive\n"
     ]
    }
   ],
   "source": [
    "vec=tfidf.transform([text])\n",
    "pre=clf.predict(vec)\n",
    "if pre==0:\n",
    "    print(\"Negative\")\n",
    "else:\n",
    "    print(\"Positive\")"
   ]
  },
  {
   "cell_type": "code",
   "execution_count": null,
   "metadata": {
    "id": "qWFWPlcDzcn7"
   },
   "outputs": [],
   "source": []
  }
 ],
 "metadata": {
  "colab": {
   "collapsed_sections": [],
   "name": "Test_2_NLP_MODEL.ipynb",
   "provenance": []
  },
  "kernelspec": {
   "display_name": "Python 3 (ipykernel)",
   "language": "python",
   "name": "python3"
  },
  "language_info": {
   "codemirror_mode": {
    "name": "ipython",
    "version": 3
   },
   "file_extension": ".py",
   "mimetype": "text/x-python",
   "name": "python",
   "nbconvert_exporter": "python",
   "pygments_lexer": "ipython3",
   "version": "3.9.12"
  }
 },
 "nbformat": 4,
 "nbformat_minor": 4
}
