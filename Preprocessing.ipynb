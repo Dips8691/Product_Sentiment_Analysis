{
 "cells": [
  {
   "cell_type": "code",
   "execution_count": 2,
   "id": "84dd67e7",
   "metadata": {},
   "outputs": [],
   "source": [
    "#pip install textblob\n",
    "#!pip install vaderSentiment"
   ]
  },
  {
   "cell_type": "code",
   "execution_count": 3,
   "id": "3ac80180",
   "metadata": {},
   "outputs": [],
   "source": [
    "import pandas as pd\n",
    "import numpy as np\n",
    "from textblob import TextBlob\n",
    "import nltk                                         #Natural language processing tool-kit\n"
   ]
  },
  {
   "cell_type": "code",
   "execution_count": 4,
   "id": "e19963a7",
   "metadata": {},
   "outputs": [],
   "source": [
    "df = pd.read_csv('comments.txt', sep=\"\\t\", header= None)\n",
    "df.rename(columns={0: 'comment'}, inplace = True)\n",
    "ratings = pd.read_csv('ratings.txt', sep=\"\\t\", header= None)\n",
    "df['rating'] = ratings.values"
   ]
  },
  {
   "cell_type": "code",
   "execution_count": 5,
   "id": "f041490f",
   "metadata": {},
   "outputs": [
    {
     "data": {
      "text/plain": [
       "0    1\n",
       "dtype: int64"
      ]
     },
     "execution_count": 5,
     "metadata": {},
     "output_type": "execute_result"
    }
   ],
   "source": [
    "countries = pd.read_csv('countries.txt', sep=\"\\t\", header= None)\n",
    "countries.nunique()"
   ]
  },
  {
   "cell_type": "markdown",
   "id": "f0ee57dd",
   "metadata": {},
   "source": [
    "I would have remove comments not from the United States, but all are from there. "
   ]
  },
  {
   "cell_type": "code",
   "execution_count": 6,
   "id": "0a0c6a51",
   "metadata": {},
   "outputs": [
    {
     "data": {
      "text/plain": [
       "video        0.210494\n",
       "player       0.460246\n",
       "is           0.198687\n",
       "loading      0.432420\n",
       "play         0.302984\n",
       "               ...   \n",
       "relevant     0.357372\n",
       "wondering    0.311827\n",
       "thru         0.591171\n",
       "rarely       0.327186\n",
       "write        0.372341\n",
       "Length: 2657, dtype: float64"
      ]
     },
     "execution_count": 6,
     "metadata": {},
     "output_type": "execute_result"
    }
   ],
   "source": [
    "from sklearn.feature_extraction.text import TfidfVectorizer\n",
    "vectorizer = TfidfVectorizer()\n",
    "vectorizer.fit(df['comment'])\n",
    "vector = vectorizer.transform(df['comment'])\n",
    "\n",
    "word_count = pd.DataFrame(vector.toarray(), index = df.index, columns = vectorizer.vocabulary_.keys())\n",
    "word_count.max()"
   ]
  },
  {
   "cell_type": "code",
   "execution_count": null,
   "id": "d24909dc",
   "metadata": {},
   "outputs": [],
   "source": []
  }
 ],
 "metadata": {
  "kernelspec": {
   "display_name": "Python 3 (ipykernel)",
   "language": "python",
   "name": "python3"
  },
  "language_info": {
   "codemirror_mode": {
    "name": "ipython",
    "version": 3
   },
   "file_extension": ".py",
   "mimetype": "text/x-python",
   "name": "python",
   "nbconvert_exporter": "python",
   "pygments_lexer": "ipython3",
   "version": "3.9.12"
  }
 },
 "nbformat": 4,
 "nbformat_minor": 5
}
